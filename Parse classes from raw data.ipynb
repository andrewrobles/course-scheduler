{
 "cells": [
  {
   "cell_type": "code",
   "execution_count": 5,
   "id": "cb05c610",
   "metadata": {},
   "outputs": [],
   "source": [
    "from bs4 import BeautifulSoup"
   ]
  },
  {
   "cell_type": "code",
   "execution_count": 6,
   "id": "3361e35b",
   "metadata": {},
   "outputs": [],
   "source": [
    "file = open('raw.txt', 'r')\n",
    "html_doc = file.read()\n",
    "file.close()\n",
    "\n",
    "soup = BeautifulSoup(html_doc, 'html.parser')"
   ]
  },
  {
   "cell_type": "code",
   "execution_count": 11,
   "id": "2d245865",
   "metadata": {},
   "outputs": [],
   "source": [
    "tables = soup.find_all('table')\n",
    "\n",
    "for table in tables:\n",
    "    rows = table.find_all('tr')\n",
    "    \n",
    "# 4th table contains class data\n",
    "table = tables[3]"
   ]
  },
  {
   "cell_type": "code",
   "execution_count": 31,
   "id": "625fa41c",
   "metadata": {
    "scrolled": false
   },
   "outputs": [],
   "source": [
    "crn_headers = table.find_all(attrs={'class': 'crn_header'})\n",
    "\n",
    "classes = []\n",
    "\n",
    "for curr in crn_headers:\n",
    "    text = curr.get_text()\n",
    "    classes.append({\n",
    "        'name': text\n",
    "    })"
   ]
  }
 ],
 "metadata": {
  "kernelspec": {
   "display_name": "Python 3",
   "language": "python",
   "name": "python3"
  },
  "language_info": {
   "codemirror_mode": {
    "name": "ipython",
    "version": 3
   },
   "file_extension": ".py",
   "mimetype": "text/x-python",
   "name": "python",
   "nbconvert_exporter": "python",
   "pygments_lexer": "ipython3",
   "version": "3.9.2"
  }
 },
 "nbformat": 4,
 "nbformat_minor": 5
}
